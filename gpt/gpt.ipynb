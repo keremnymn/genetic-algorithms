{
 "cells": [
  {
   "cell_type": "code",
   "execution_count": 1,
   "metadata": {},
   "outputs": [],
   "source": [
    "# following along https://www.youtube.com/watch?v=kCc8FmEb1nY&t=1516s\n",
    "# this is a custom data that I created\n",
    "\n",
    "with open(\"input.txt\", \"r\", encoding=\"utf-8\") as f:\n",
    "    text = f.read()"
   ]
  },
  {
   "cell_type": "code",
   "execution_count": 2,
   "metadata": {},
   "outputs": [
    {
     "name": "stdout",
     "output_type": "stream",
     "text": [
      "length of the characters:  465151\n"
     ]
    }
   ],
   "source": [
    "print(\"length of the characters: \", len(text))"
   ]
  },
  {
   "cell_type": "code",
   "execution_count": 3,
   "metadata": {},
   "outputs": [
    {
     "name": "stdout",
     "output_type": "stream",
     "text": [
      "\t\n",
      "\f ,-;=ABCDEFGHIJKLMNOPRSTUVYZ[]abcdefghijklmnoprstuvyzÂÇÖÜâçîöûüğİıŞş‘’\n",
      "73\n"
     ]
    }
   ],
   "source": [
    "chars = sorted(list(set(text)))\n",
    "vocab_size = len(chars)\n",
    "\n",
    "print(\"\".join(chars))\n",
    "print(vocab_size)"
   ]
  },
  {
   "cell_type": "code",
   "execution_count": 4,
   "metadata": {},
   "outputs": [],
   "source": [
    "stoi = { ch:i for i,ch in enumerate(chars) }\n",
    "itos = { i:ch for i,ch in enumerate(chars) }"
   ]
  },
  {
   "cell_type": "code",
   "execution_count": 5,
   "metadata": {},
   "outputs": [],
   "source": [
    "encode = lambda s: [stoi[c] for c in s] # take a string, output a list of integers\n",
    "decode = lambda l: \"\".join([itos[i] for i in l]) # take a list of integers, output string"
   ]
  },
  {
   "cell_type": "code",
   "execution_count": 6,
   "metadata": {},
   "outputs": [
    {
     "name": "stdout",
     "output_type": "stream",
     "text": [
      "[45, 37, 49, 40, 33, 34, 33]\n",
      "merhaba\n"
     ]
    }
   ],
   "source": [
    "print(encode(\"merhaba\"))\n",
    "print(decode(encode(\"merhaba\")))"
   ]
  },
  {
   "cell_type": "code",
   "execution_count": 7,
   "metadata": {},
   "outputs": [
    {
     "name": "stdout",
     "output_type": "stream",
     "text": [
      "torch.Size([465151]) torch.int64\n",
      "tensor([15, 37, 49,  3, 70, 37, 54, 36, 37, 46,  3, 63, 46, 35, 37,  3, 39, 37,\n",
      "        44, 37, 46,  3, 34, 41, 49,  3, 47, 44, 33, 46,  3,  8, 44, 44, 33, 40,\n",
      "        72, 51, 68, 49,  1, 25, 47, 46, 50, 52, 55,  3, 40, 33, 45, 36,  3, 53,\n",
      "        37,  3, 63, 53, 39, 65,  3, 33, 46, 35, 33, 43,  3, 47, 46, 33,  3, 54,\n",
      "        33, 49, 33, 70, 68, 49,  1, 27, 44, 52, 44, 52, 43,  3, 50, 33, 40, 41,\n",
      "        34, 41,  4,  3, 39, 65, 61, 44, 65,  4,  3, 55, 65,  5,  5, 35, 37, 44,\n",
      "        33, 44,  1, 29, 33, 49, 33, 51, 33, 46,  4,  3, 51, 65, 49, 37, 51, 37,\n",
      "        46,  3, 53, 37,  3, 43, 33, 36, 41, 49,  3, 43, 37, 45, 33, 44,  1, 29,\n",
      "        37, 49, 41, 46,  4,  3, 39, 63, 66, 65, 46,  3, 53, 37,  3, 54, 33, 49,\n",
      "        33, 51, 68, 44, 45, 68, 70,  3, 47, 44, 33, 46, 44, 33, 49, 68, 46,  1,\n",
      "        24, 68, 55, 43, 68, 46, 68,  3, 40, 33, 55, 68, 49, 44, 33, 45, 68, 70,\n",
      "        51, 68, 49,  4,  3, 50, 37, 46,  3, 39, 65, 44, 37,  3, 39, 65, 44, 37,\n",
      "         3, 54, 37,  1, 25, 33, 54, 45, 33, 36, 33, 46,  3, 53, 37, 49, 41, 49,\n",
      "         3, 40, 37, 49, 43, 37, 50, 37,  3, 49, 68, 55, 43, 68, 46, 68,  1, 15,\n",
      "        37, 49, 43, 37, 50, 37,  3, 54, 37, 36, 41, 49, 41, 49,  3, 33, 45, 33,\n",
      "         3, 54, 37, 45, 37, 55,  3, 43, 37, 46, 36, 41,  1,  8, 61,  3, 43, 47,\n",
      "        54, 45, 33, 55,  3, 40, 41, 61, 34, 41, 49,  3, 55, 33, 45, 33, 46,  3,\n",
      "        34, 65, 51, 65, 46,  3, 35, 33, 46, 44, 68, 44, 33, 49, 68,  1, 29, 37,\n",
      "        36, 41, 49, 41, 49,  3, 41, 61, 41, 49, 41, 49,  3, 54, 33, 49, 33, 51,\n",
      "        51, 68, 43, 44, 33, 49, 68, 46, 68, 46,  3, 51, 33, 45, 33, 45, 68, 46,\n",
      "        68,  1, 21, 33, 50, 68, 44,  3, 43, 41,  3, 36, 41, 44, 37, 36, 41,  3,\n",
      "        40, 37, 49,  3, 70, 37, 54,  3, 47, 44, 36, 52,  1, 15, 37, 49,  3, 43,\n",
      "        41, 45, 41,  3, 36, 41, 44, 37, 49, 50, 37,  3, 43, 68, 44, 33, 49,  3,\n",
      "        47, 46, 52,  3, 52, 44, 52,  1, 25, 33, 44, 33, 51,  3, 53, 37,  3, 50,\n",
      "        37, 44, 33, 45,  3, 47,  3, 50, 37, 61, 41, 44, 45, 41, 70,  3, 49, 37,\n",
      "        50, 52, 44, 37,  1, 29, 41, 46, 37,  3, 33, 49, 43, 33, 36, 33, 70, 44,\n",
      "        33, 49, 68, 46, 33,  3, 50, 33, 54, 39, 68,  3, 53, 37,  3, 50, 37, 44,\n",
      "        33, 45,  1, 20, 52, 40, 33, 45, 45, 37, 36,  3, 23, 37, 54, 39, 33, 45,\n",
      "        34, 37, 49,  3, 54, 33, 49, 33, 51, 68, 44, 33, 46, 44, 33, 49, 68, 46,\n",
      "         3, 34, 33, 70, 68, 36, 68, 49,  1,  9, 65, 51, 65, 46,  3, 34, 52, 46,\n",
      "        44, 33, 49, 68, 46,  3, 47,  3, 39, 63, 55,  3, 65, 50, 51, 65, 46, 36,\n",
      "        37,  3, 43, 33, 70, 68, 36, 68, 49,  1, 29, 41, 46, 37,  3, 34, 52,  3,\n",
      "        43, 41, 51, 33, 48,  3, 61, 47, 43,  3, 33, 55, 41, 55, 36, 41, 49,  1,\n",
      "         9, 41, 44, 37, 46,  3, 41, 61, 41, 46,  3, 34, 41, 49,  3, 34, 41, 44,\n",
      "        39, 41,  3, 36, 37, 46, 41, 55, 41, 36, 41, 49,  1,  9, 37, 55, 37, 46,\n",
      "        45, 41, 70,  3, 36, 37, 66, 37, 49, 44, 41,  3, 34, 41, 44, 39, 41, 44,\n",
      "        37, 49, 44, 37,  1, 25, 37, 46,  3, 33, 49, 51, 68, 43,  3, 70, 65, 43,\n",
      "        49, 37, 51,  3, 43, 33, 46, 33, 33, 51,  3, 41, 44, 37,  1,  9, 65, 51,\n",
      "        65, 46,  3, 48, 33, 49, 61, 33, 44, 33, 49, 68, 46, 36, 33,  3, 34, 65,\n",
      "        54, 65, 43, 44, 37, 49, 41, 46,  3, 50, 63, 55, 65,  1, 25, 68, 49, 33,\n",
      "        44, 33, 46, 68, 48,  3, 36, 41, 55, 41, 44, 45, 41, 70, 51, 41, 49,  3,\n",
      "        41, 46, 35, 41, 44, 37, 49,  3, 39, 41, 34, 41,  1,  2,  1,  9, 52,  3,\n",
      "        20, 37, 70, 49, 41, 43,  3, 45, 37, 44, 41, 43, 41,  4,  3, 20, 33, 61,\n",
      "        41, 46, 44, 41, 44, 37, 49,  3, 34, 37, 54, 41,  1,  9, 41, 44, 39, 41,\n",
      "        44, 41,  4,  3, 33, 46, 44, 33, 54, 68, 70, 44, 68,  4,  3, 36, 65, 46,\n",
      "        54, 33, 46, 68, 46,  3, 63, 46, 36, 37,  3, 39, 37, 44, 37, 46, 44, 37,\n",
      "        49, 41,  1, 15, 37, 48, 50, 41,  3, 34, 52,  3, 43, 41, 51, 33, 34, 68,\n",
      "         3, 33, 44, 68, 48,  3, 34, 37, 46, 41, 45, 50, 37, 45, 41, 70,  1, 15,\n",
      "        33, 55, 41, 46, 37,  3, 41, 61, 41, 46, 37,  3, 43, 47, 54, 52, 48,  3,\n",
      "        39, 41, 55, 44, 37, 45, 41, 70,  1,  9, 41, 49, 41, 46, 36, 37, 46,  3,\n",
      "        34, 41, 49, 41, 46, 37,  3, 45, 41, 49, 33, 50,  3, 47, 44, 33, 49, 33,\n",
      "        43,  3, 43, 33, 44, 68, 49,  1,  9, 33, 70, 43, 33, 44, 33, 49, 68, 46,\n",
      "        33,  3, 53, 37, 49, 45, 37, 55,  3, 43, 37, 46, 36, 41, 46, 37,  3, 33,\n",
      "        44, 68, 49,  1, 29, 33, 49, 33, 49, 44, 68, 36, 68, 49,  3, 34, 52,  3,\n",
      "        31, 43, 41, 51, 33, 48, 32,  3, 54, 47, 43,  3, 40, 41, 61,  3, 55, 33,\n",
      "        49, 33, 49, 68,  1, 57, 47, 66, 52,  3])\n"
     ]
    }
   ],
   "source": [
    "import torch\n",
    "\n",
    "data = torch.tensor(encode(text), dtype=torch.long)\n",
    "print(data.shape, data.dtype)\n",
    "print(data[:1000])"
   ]
  },
  {
   "cell_type": "code",
   "execution_count": 8,
   "metadata": {},
   "outputs": [],
   "source": [
    "n = int(0.9 * len(data))\n",
    "train_data = data[:n]\n",
    "val_data = data[n:]"
   ]
  },
  {
   "cell_type": "code",
   "execution_count": 9,
   "metadata": {},
   "outputs": [
    {
     "data": {
      "text/plain": [
       "tensor([15, 37, 49,  3, 70, 37, 54, 36, 37])"
      ]
     },
     "execution_count": 9,
     "metadata": {},
     "output_type": "execute_result"
    }
   ],
   "source": [
    "block_size = 8\n",
    "train_data[:block_size+1]"
   ]
  },
  {
   "cell_type": "code",
   "execution_count": 10,
   "metadata": {},
   "outputs": [
    {
     "name": "stdout",
     "output_type": "stream",
     "text": [
      "when input is tensor([15]), the target is: 37\n",
      "when input is tensor([15, 37]), the target is: 49\n",
      "when input is tensor([15, 37, 49]), the target is: 3\n",
      "when input is tensor([15, 37, 49,  3]), the target is: 70\n",
      "when input is tensor([15, 37, 49,  3, 70]), the target is: 37\n",
      "when input is tensor([15, 37, 49,  3, 70, 37]), the target is: 54\n",
      "when input is tensor([15, 37, 49,  3, 70, 37, 54]), the target is: 36\n",
      "when input is tensor([15, 37, 49,  3, 70, 37, 54, 36]), the target is: 37\n"
     ]
    }
   ],
   "source": [
    "x = train_data[: block_size]\n",
    "y = train_data[1: block_size+1]\n",
    "\n",
    "for t in range(block_size):\n",
    "    context = x[: t+1]\n",
    "    target = y[t]\n",
    "\n",
    "    print(f\"when input is {context}, the target is: {target}\")"
   ]
  },
  {
   "cell_type": "code",
   "execution_count": 15,
   "metadata": {},
   "outputs": [
    {
     "name": "stdout",
     "output_type": "stream",
     "text": [
      "inputs: \n",
      "torch.Size([4, 8])\n",
      "tensor([[37,  3, 36, 68, 70, 51, 33, 46],\n",
      "        [43, 68, 48,  1, 30, 41, 54, 33],\n",
      "        [33,  4,  3, 46, 33, 50, 68, 44],\n",
      "        [46, 41,  1, 57, 68, 43, 33, 49]])\n",
      "targets: \n",
      "torch.Size([4, 8])\n",
      "tensor([[ 3, 36, 68, 70, 51, 33, 46,  3],\n",
      "        [68, 48,  1, 30, 41, 54, 33, 49],\n",
      "        [ 4,  3, 46, 33, 50, 68, 44,  3],\n",
      "        [41,  1, 57, 68, 43, 33, 49, 45]])\n"
     ]
    }
   ],
   "source": [
    "torch.manual_seed(1337)\n",
    "\n",
    "batch_size = 4 # the number of the independent sequences that will be processed in parallel\n",
    "block_size = 8 # the number of he maximum context length\n",
    "\n",
    "def get_batch(split):\n",
    "    # generate a small batch of data of inputs x and target y\n",
    "    data = train_data if split == \"train\" else val_data\n",
    "\n",
    "    ix = torch.randint(\n",
    "        len(data) - block_size,\n",
    "        (batch_size,)\n",
    "    )\n",
    "\n",
    "    x = torch.stack(\n",
    "        [data[i: i+block_size] for i in ix]\n",
    "    )\n",
    "    y = torch.stack(\n",
    "        [data[i+1: i+block_size+1] for i in ix]\n",
    "    )\n",
    "\n",
    "    return x, y\n",
    "\n",
    "xb, yb = get_batch(\"train\")\n",
    "print(\"inputs: \")\n",
    "print(xb.shape)\n",
    "print(xb)\n",
    "print(\"targets: \")\n",
    "print(yb.shape)\n",
    "print(yb)"
   ]
  },
  {
   "cell_type": "code",
   "execution_count": 16,
   "metadata": {},
   "outputs": [
    {
     "name": "stdout",
     "output_type": "stream",
     "text": [
      "tensor([[37,  3, 36, 68, 70, 51, 33, 46],\n",
      "        [43, 68, 48,  1, 30, 41, 54, 33],\n",
      "        [33,  4,  3, 46, 33, 50, 68, 44],\n",
      "        [46, 41,  1, 57, 68, 43, 33, 49]])\n"
     ]
    }
   ],
   "source": [
    "print(xb) # our input to the transformer"
   ]
  },
  {
   "cell_type": "code",
   "execution_count": 17,
   "metadata": {},
   "outputs": [
    {
     "name": "stdout",
     "output_type": "stream",
     "text": [
      "logits shape: torch.Size([4, 8, 73])\n",
      "targets shape: torch.Size([4, 8])\n",
      "torch.Size([32, 73])\n"
     ]
    }
   ],
   "source": [
    "import torch\n",
    "import torch.nn as nn\n",
    "from torch.nn import functional as F\n",
    "torch.manual_seed(1337)\n",
    "\n",
    "class BiagramLanguageModel(nn.Module):\n",
    "    def __init__(self, vocab_size) -> None:\n",
    "        super().__init__()\n",
    "        # each token directly reads off the logits for the next token from a lookup table\n",
    "        self.token_embedding_table = nn.Embedding(vocab_size, vocab_size)\n",
    "\n",
    "    def forward(self, idx, targets = None):\n",
    "        # idx and targets are both (B,T) tensor of integers\n",
    "        logits = self.token_embedding_table(idx) # (B, T, C)\n",
    "\n",
    "        if targets:\n",
    "            B, T, C = logits.shape\n",
    "            # cross_entropy işlevinin girdiyi kabul etmesi için tensorları birleştiriyoruz.\n",
    "            # bu aynı zamanda logits.view(-1) olarak da yapılabilir.\n",
    "            logits = logits.view(B*T, C)\n",
    "            targets = targets.view(B*T)\n",
    "\n",
    "            loss = F.cross_entropy(logits, targets)\n",
    "        else:\n",
    "            loss = None\n",
    "\n",
    "        return logits, loss\n",
    "    \n",
    "    def generate(self, idx, max_new_tokens):\n",
    "        # idx is (B, T) array of indices in the current context\n",
    "        for _ in range(max_new_tokens):\n",
    "            # get the prediction\n",
    "            logits, loss = self.forward(idx)\n",
    "            # focus only the last time step\n",
    "            logits = logits[:, -1, :] # becomes (B, C)\n",
    "            # apply softmax to get probabilities\n",
    "            probs = F.softmax(logits, dim = 1) # (B, C)\n",
    "            # sample from the distrubition\n",
    "            idx_next = torch.multinomial(probs, num_samples=1) # (B, 1)\n",
    "            # append sampled index to the running sequence\n",
    "            idx = torch.cat((idx, idx_next), dim=1) # (B, T+1)\n",
    "        return idx\n",
    "\n",
    "m = BiagramLanguageModel(vocab_size)\n",
    "logits, loss = m(xb, yb)\n",
    "print(logits.shape)"
   ]
  },
  {
   "cell_type": "code",
   "execution_count": 20,
   "metadata": {},
   "outputs": [],
   "source": [
    "embedding = nn.Embedding(vocab_size, vocab_size)\n",
    "logits = embedding(xb)"
   ]
  },
  {
   "cell_type": "code",
   "execution_count": 23,
   "metadata": {},
   "outputs": [
    {
     "data": {
      "text/plain": [
       "torch.Size([4, 8, 73])"
      ]
     },
     "execution_count": 23,
     "metadata": {},
     "output_type": "execute_result"
    }
   ],
   "source": [
    "logits.shape"
   ]
  },
  {
   "cell_type": "code",
   "execution_count": 24,
   "metadata": {},
   "outputs": [
    {
     "data": {
      "text/plain": [
       "torch.Size([4, 73])"
      ]
     },
     "execution_count": 24,
     "metadata": {},
     "output_type": "execute_result"
    }
   ],
   "source": [
    "logits[:, -1, :].shape"
   ]
  }
 ],
 "metadata": {
  "kernelspec": {
   "display_name": "env",
   "language": "python",
   "name": "python3"
  },
  "language_info": {
   "codemirror_mode": {
    "name": "ipython",
    "version": 3
   },
   "file_extension": ".py",
   "mimetype": "text/x-python",
   "name": "python",
   "nbconvert_exporter": "python",
   "pygments_lexer": "ipython3",
   "version": "3.11.2"
  },
  "orig_nbformat": 4
 },
 "nbformat": 4,
 "nbformat_minor": 2
}
